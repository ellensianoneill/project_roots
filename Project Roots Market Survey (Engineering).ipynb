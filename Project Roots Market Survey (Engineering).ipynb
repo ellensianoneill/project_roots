{
 "cells": [
  {
   "cell_type": "markdown",
   "id": "6ff6a6b5",
   "metadata": {},
   "source": [
    "## Project Roots Market Survey (Engineering)\n",
    "\n",
    "The aim of this code is to engineer and cleanse the **Project Roots Market Survey**, transforming a wide data set into a tall data set enriched with useful meta data and primed for data analysis."
   ]
  },
  {
   "cell_type": "markdown",
   "id": "c6ee5349",
   "metadata": {},
   "source": [
    "### Import packages"
   ]
  },
  {
   "cell_type": "code",
   "execution_count": 1,
   "id": "9bc441bc",
   "metadata": {},
   "outputs": [],
   "source": [
    "import pandas as pd\n",
    "pd.set_option('display.max_rows',None)\n",
    "pd.set_option('display.max_columns',None)\n",
    "\n",
    "import os\n",
    "import pickle\n",
    "from datetime import date, datetime\n",
    "\n",
    "import matplotlib.pyplot as plt\n",
    "from matplotlib.figure import Figure\n",
    "import numpy as np"
   ]
  },
  {
   "cell_type": "markdown",
   "id": "dc3c2d16",
   "metadata": {},
   "source": [
    "### Note: \n",
    "If using a new environment, pip install the following from terminal:\\\n",
    "pip install --upgrade google-api-python-client google-auth-httplib2 google-auth-oauthlib"
   ]
  },
  {
   "cell_type": "code",
   "execution_count": 2,
   "id": "f390697f",
   "metadata": {},
   "outputs": [],
   "source": [
    "from googleapiclient.discovery import build\n",
    "from google_auth_oauthlib.flow import InstalledAppFlow,Flow\n",
    "from google.auth.transport.requests import Request"
   ]
  },
  {
   "cell_type": "markdown",
   "id": "f430015e",
   "metadata": {},
   "source": [
    "### Create function to connect to Google Sheets API\n",
    "Used walkthrough to connect to and read from Google Sheet\\\n",
    "https://medium.com/analytics-vidhya/how-to-read-and-write-data-to-google-spreadsheet-using-python-ebf54d51a72c"
   ]
  },
  {
   "cell_type": "code",
   "execution_count": 3,
   "id": "e59e3955",
   "metadata": {},
   "outputs": [],
   "source": [
    "SCOPES = ['https://www.googleapis.com/auth/spreadsheets']  \n",
    "\n",
    "def connectGSheet(gsheet_id, gsheet_range):\n",
    "    global values_input, service\n",
    "    creds = None\n",
    "    if os.path.exists('token.pickle'):\n",
    "        with open('token.pickle', 'rb') as token:\n",
    "            creds = pickle.load(token)\n",
    "    if not creds or not creds.valid:\n",
    "        if creds and creds.expired and creds.refresh_token:\n",
    "            creds.refresh(Request())\n",
    "        else:\n",
    "            # Specify json file generated using this tutorial:\n",
    "            # https://developers.google.com/sheets/api/quickstart/python\n",
    "            flow = InstalledAppFlow.from_client_secrets_file(\n",
    "                'credentials.json', SCOPES) \n",
    "            creds = flow.run_local_server(port=0)\n",
    "        with open('token.pickle', 'wb') as token:\n",
    "            pickle.dump(creds, token)\n",
    "\n",
    "    service = build('sheets', 'v4', credentials=creds)\n",
    "\n",
    "    # Call the Google Sheets API\n",
    "    sheet = service.spreadsheets()\n",
    "    result_input = sheet.values().get(spreadsheetId=gsheet_id,\n",
    "                                range=gsheet_range).execute()\n",
    "    values_input = result_input.get('values', [])\n",
    "\n",
    "    if not values_input and not values_expansion:\n",
    "        print('No data found.')"
   ]
  },
  {
   "cell_type": "markdown",
   "id": "31918535",
   "metadata": {},
   "source": [
    "**Read sheet:** form_response"
   ]
  },
  {
   "cell_type": "code",
   "execution_count": 4,
   "id": "91972b9b",
   "metadata": {},
   "outputs": [],
   "source": [
    "# Define google sheet id and range\n",
    "gsheet_id = '1YDodYS7JAV7R0icO0s28i9UGKHO2LbOcbfCYjmhvSmI'\n",
    "gsheet_range = 'form_response!A1:X201'      \n",
    "    \n",
    "# Function call   \n",
    "connectGSheet(gsheet_id, gsheet_range)\n",
    "\n",
    "# Generate data frame of raw survey response data\n",
    "df_rd = pd.DataFrame(values_input[1:], columns=values_input[0])"
   ]
  },
  {
   "cell_type": "markdown",
   "id": "e0d21338",
   "metadata": {},
   "source": [
    "**Read sheet:** question_meta_data"
   ]
  },
  {
   "cell_type": "code",
   "execution_count": 5,
   "id": "f7307ab5",
   "metadata": {},
   "outputs": [],
   "source": [
    "# Define google sheet range\n",
    "gsheet_range = 'question_meta_data!A1:F23'      \n",
    "    \n",
    "# Function call   \n",
    "connectGSheet(gsheet_id, gsheet_range)\n",
    "\n",
    "# Generate data frame of meta data pertaining to survey questions\n",
    "df_md = pd.DataFrame(values_input[1:], columns=values_input[0])"
   ]
  },
  {
   "cell_type": "markdown",
   "id": "823f83fc",
   "metadata": {},
   "source": [
    "**Read sheet:** Q18"
   ]
  },
  {
   "cell_type": "code",
   "execution_count": 6,
   "id": "a1afb0ad",
   "metadata": {},
   "outputs": [],
   "source": [
    "# Define google sheet id and range\n",
    "gsheet_range = 'Q18!A1:B14'      \n",
    "    \n",
    "# Function call   \n",
    "connectGSheet(gsheet_id, gsheet_range)\n",
    "\n",
    "# Generate data frame of raw survey response data\n",
    "df_q18 = pd.DataFrame(values_input[1:], columns=values_input[0])"
   ]
  },
  {
   "cell_type": "markdown",
   "id": "10818cc6",
   "metadata": {},
   "source": [
    "**Read sheet:** Q20"
   ]
  },
  {
   "cell_type": "code",
   "execution_count": 7,
   "id": "ad6eecf6",
   "metadata": {},
   "outputs": [],
   "source": [
    "# Define google sheet id and range\n",
    "gsheet_range = 'Q20!A1:B46'      \n",
    "    \n",
    "# Function call   \n",
    "connectGSheet(gsheet_id, gsheet_range)\n",
    "\n",
    "# Generate data frame of raw survey response data\n",
    "df_q20 = pd.DataFrame(values_input[1:], columns=values_input[0])"
   ]
  },
  {
   "cell_type": "markdown",
   "id": "465d53c6",
   "metadata": {},
   "source": [
    "### Merge survey  data with updated Q18 & Q20 answers\n",
    "Replace free text responses with manually updated answers that conform to the naming convention outlined in earlier questions (e.g. UK -> United Kingdom, Holland -> Netherlands etc.)"
   ]
  },
  {
   "cell_type": "code",
   "execution_count": 8,
   "id": "023be5e4",
   "metadata": {},
   "outputs": [],
   "source": [
    "# Left join between raw dataset and the Q18 manual categorisation table\n",
    "df_rd = pd.merge(df_rd, df_q18, how='left', left_on='Please list the rest of your ethnicities here if you have more than 3', right_on='Please list the rest of your ethnicities here if you have more than 3')"
   ]
  },
  {
   "cell_type": "code",
   "execution_count": 9,
   "id": "0a3c4711",
   "metadata": {},
   "outputs": [],
   "source": [
    "# Left join between raw dataset and the Q20 manual categorisation table\n",
    "df_rd = pd.merge(df_rd, df_q20, how='left', left_on='Please add any other countries you grew up in', right_on='Please add any other countries you grew up in')"
   ]
  },
  {
   "cell_type": "code",
   "execution_count": 10,
   "id": "26c656e3",
   "metadata": {},
   "outputs": [
    {
     "data": {
      "text/plain": [
       "200"
      ]
     },
     "execution_count": 10,
     "metadata": {},
     "output_type": "execute_result"
    }
   ],
   "source": [
    "# SENSE CHECK: Total rows should be 200\n",
    "df_rd.shape[0]"
   ]
  },
  {
   "cell_type": "code",
   "execution_count": 11,
   "id": "c77ea822",
   "metadata": {},
   "outputs": [],
   "source": [
    "# Re-order new columns 'Cleansed (Q18)' and '(Cleansed (Q20)')\n",
    "col = df_rd.pop('Cleansed (Q18)')\n",
    "df_rd.insert(6, col.name, col)\n",
    "\n",
    "col = df_rd.pop('Cleansed (Q20)')\n",
    "df_rd.insert(9, col.name, col)"
   ]
  },
  {
   "cell_type": "code",
   "execution_count": 12,
   "id": "09e8d72d",
   "metadata": {},
   "outputs": [],
   "source": [
    "# Rename cleansed columns\n",
    "df_rd = df_rd.rename(columns={'Cleansed (Q18)':'Please list the rest of your ethnicities here if you have more than 3 (Cleansed)','Cleansed (Q20)':'Please add any other countries you grew up in (Cleansed)'})"
   ]
  },
  {
   "cell_type": "code",
   "execution_count": 13,
   "id": "e7291eba",
   "metadata": {},
   "outputs": [],
   "source": [
    "# Fill NaN values\n",
    "df_rd = df_rd.fillna('')"
   ]
  },
  {
   "cell_type": "code",
   "execution_count": 14,
   "id": "a4c308c2",
   "metadata": {},
   "outputs": [],
   "source": [
    "# Concatenate multiple columns to get a single list of all countries\n",
    "df_rd[\"CF Total ethnicities (List)\"] = df_rd[['What country is your first ethnic background? ', 'What country is your second ethnic background? (If you have multiple)','What country is your third ethnic background? (If you have multiple)','Please list the rest of your ethnicities here if you have more than 3 (Cleansed)']].agg(', '.join, axis=1)\n",
    "\n",
    "# Remove additional ' ,' generated in previous step\n",
    "df_rd[\"CF Total ethnicities (List)\"] = df_rd[\"CF Total ethnicities (List)\"].str.replace(r'(,\\s*)+', ', ', regex=True).str.strip(', ')\n",
    "\n",
    "# Calculate number of countries supplied for ethnic background\n",
    "df_rd[\"CF Total ethnicities (Number)\"] = df_rd[\"CF Total ethnicities (List)\"].str.split(',').apply(lambda x: len([item for item in x if item.strip() != '']))\n",
    "\n",
    "# Concatenate multiple columns to get a single list of all countries\n",
    "df_rd[\"CF Total countries grown up in (List)\"] = df_rd[['What country did you grow up in primarily? ','Please add any other countries you grew up in (Cleansed)']].agg(', '.join, axis=1)\n",
    "\n",
    "# Remove additional ' ,' generated in previous step\n",
    "df_rd[\"CF Total countries grown up in (List)\"] = df_rd[\"CF Total countries grown up in (List)\"].str.replace(r'(,\\s*)+', ', ', regex=True).str.strip(', ')\n",
    "\n",
    "# Calculate number of countries supplied for ethnic background\n",
    "df_rd[\"CF Total countries grown up in (Number)\"] = df_rd[\"CF Total countries grown up in (List)\"].str.split(',').apply(lambda x: len([item for item in x if item.strip() != '']))"
   ]
  },
  {
   "cell_type": "markdown",
   "id": "f8efc920",
   "metadata": {},
   "source": [
    "### Create tall data set with new naming convention\n",
    "Certain data analysis is prefereable with a tall data set, therefore we will add a 'tall' data set sheet to our final GSheet."
   ]
  },
  {
   "cell_type": "code",
   "execution_count": 15,
   "id": "31b17955",
   "metadata": {},
   "outputs": [],
   "source": [
    "# Create unique identifier and pad with leading zeroes\n",
    "df_rd['recipient_id'] = (df_rd.index + 1).astype(str).str.zfill(3)"
   ]
  },
  {
   "cell_type": "code",
   "execution_count": 16,
   "id": "9f522eb4",
   "metadata": {
    "scrolled": true
   },
   "outputs": [],
   "source": [
    "# Re-order spreadsheet and bring id column to front\n",
    "col = df_rd.pop('recipient_id')\n",
    "df_rd.insert(0, col.name, col)"
   ]
  },
  {
   "cell_type": "code",
   "execution_count": 17,
   "id": "c68eba18",
   "metadata": {},
   "outputs": [],
   "source": [
    "# Rename 'Timestamp' to 'timestamp' to uphold naming convention\n",
    "df_rd = df_rd.rename(columns={'Timestamp':'timestamp', 'Email? (join our future mailing list when we launch! 😁)':'email'})"
   ]
  },
  {
   "cell_type": "code",
   "execution_count": 18,
   "id": "ee2938ac",
   "metadata": {},
   "outputs": [],
   "source": [
    "# Use 'melt' syntax to unpivot data and transform wide data set to a tall data set\n",
    "df_piv = pd.melt(df_rd, id_vars=\n",
    "                 ['recipient_id','timestamp','email'],\n",
    "                 value_vars=['Age?',\n",
    "                             'What country is your first ethnic background? ',\n",
    "                             'What country is your second ethnic background? (If you have multiple)',\n",
    "                             'What country is your third ethnic background? (If you have multiple)',\n",
    "                             'Please list the rest of your ethnicities here if you have more than 3',\n",
    "                             'Please list the rest of your ethnicities here if you have more than 3 (Cleansed)',                                                                         \n",
    "                             'What country did you grow up in primarily? ',\n",
    "                             'Please add any other countries you grew up in',\n",
    "                             'Please add any other countries you grew up in (Cleansed)',                                                                          \n",
    "                             '1. Did you experience uncertainty or conflict between your family culture and the culture of the country you grew up in?',\n",
    "                             '2.  What kind of positive and negative experiences shaped your cultural identity while growing up? (e.g. memories at home, school, university, a work environment that made you feel proud or ashamed of your culture) ',\n",
    "                             '3. How connected do you currently feel to your cultural identity (roots)?',\n",
    "                             '4. Did you wish you felt more connected to your cultural identity (roots)?',\n",
    "                             '5. What did you wish you knew more about your culture?',\n",
    "                             '6. Would you visit the country of your ethnic origin to learn more about your cultural identity?',\n",
    "                             '7.  Are there any obstacles or limitations that prevent you from visiting your country of ethnic origin?',\n",
    "                             \"8. Do you think it's important to connect back to your cultural identity (roots)?\",\n",
    "                             \"9. Why do you think it's important (or not) to connect back with your cultural identity (roots)?\",\n",
    "                             '10. Suppose there was a cultural reconnection programme that was established in the motherland to help diaspora people reconnect back with their cultural identity. Would you be interested to fly back and participate? (Where you would formally learn about your culture and also work with a local NGO solving a social problem)',\n",
    "                             '10a. If you selected ‘No’, why would you not want to participate in this programme?',\n",
    "                             '11. Would you be willing to pay for the programme?',\n",
    "                             '12. What would you want to gain from a cultural reconnection programme like this? (or what elements would you want the programme to have if you are going to be paying for it?)',\n",
    "                             '13. How long would you be willing to volunteer with a local NGO in the country of your ethnic origin?',\n",
    "                             'Let us know if there is anything else you would like to mention below',\n",
    "                             'CF Total ethnicities (List)',\n",
    "                             'CF Total ethnicities (Number)',\n",
    "                             'CF Total countries grown up in (List)',\n",
    "                             'CF Total countries grown up in (Number)'],\n",
    "                 var_name='question_wording_legacy',value_name='response')"
   ]
  },
  {
   "cell_type": "markdown",
   "id": "28f6ee49",
   "metadata": {},
   "source": [
    "### Merge un-pivoted raw data with question meta data\n",
    "Enrich the raw survey data unpivoted in previous step with question meta data (e.g. question type, data type etc.)"
   ]
  },
  {
   "cell_type": "code",
   "execution_count": 19,
   "id": "46685c92",
   "metadata": {},
   "outputs": [],
   "source": [
    "# Left join between raw dataset and the Q20 manual categorisation table\n",
    "df_td = pd.merge(df_piv, df_md, how='left', left_on='question_wording_legacy', right_on='question_wording_legacy')"
   ]
  },
  {
   "cell_type": "code",
   "execution_count": 20,
   "id": "a3080c1e",
   "metadata": {},
   "outputs": [],
   "source": [
    "# Re-order columns in spreadsheet\n",
    "col = df_td.pop('question_id')\n",
    "df_td.insert(3, col.name, col)\n",
    "\n",
    "col = df_td.pop('response')\n",
    "df_td.insert(9, col.name, col)"
   ]
  },
  {
   "cell_type": "code",
   "execution_count": 21,
   "id": "4377f9aa",
   "metadata": {},
   "outputs": [],
   "source": [
    "# Update question_id and quesetion_wording columns to reflect the newly cleansed Q18 & Q20\n",
    "df_td['question_id'] = df_td.apply(lambda x: 'Q18C' if x['question_wording_legacy'] == 'Please list the rest of your ethnicities here if you have more than 3 (Cleansed)' else x['question_id'], axis=1)\n",
    "df_td['question_id'] = df_td.apply(lambda x: 'Q20C' if x['question_wording_legacy'] == 'Please add any other countries you grew up in (Cleansed)' else x['question_id'], axis=1)\n",
    "\n",
    "df_td['question_wording'] = df_td.apply(lambda x: 'Please add any other countries you grew up in (Cleansed)' if x['question_wording_legacy'] == 'Please list the rest of your ethnicities here if you have more than 3 (Cleansed)' else x['question_wording'], axis=1)\n",
    "df_td['question_wording'] = df_td.apply(lambda x: 'Please add any other countries you grew up in (Cleansed)' if x['question_wording_legacy'] == 'Please add any other countries you grew up in (Cleansed)' else x['question_wording'], axis=1)"
   ]
  },
  {
   "cell_type": "code",
   "execution_count": 22,
   "id": "5abd716e",
   "metadata": {},
   "outputs": [],
   "source": [
    "# Update columns to reflect additional concatenation based calculated fields \n",
    "df_td['question_id'] = df_td.apply(lambda x: 'QCF' if x['question_wording_legacy'] in ['CF Total ethnicities (List)','CF Total ethnicities (Number)','CF Total countries grown up in (List)','CF Total countries grown up in (Number)'] else x['question_id'], axis=1)\n",
    "df_td['question_wording'] = df_td.apply(lambda x: x['question_wording_legacy'] if x['question_wording_legacy'] in ['CF Total ethnicities (List)','CF Total ethnicities (Number)','CF Total countries grown up in (List)','CF Total countries grown up in (Number)'] else x['question_wording'], axis=1)"
   ]
  },
  {
   "cell_type": "code",
   "execution_count": 23,
   "id": "3f68a073",
   "metadata": {},
   "outputs": [
    {
     "data": {
      "text/plain": [
       "5600"
      ]
     },
     "execution_count": 23,
     "metadata": {},
     "output_type": "execute_result"
    }
   ],
   "source": [
    "# SENSE CHECK: should = 5600, as 200 responses x (22 qs incl. 10i and 10ii + x2 cleansed qs + 4CFs)\n",
    "df_td.shape[0]"
   ]
  },
  {
   "cell_type": "markdown",
   "id": "27c1f739",
   "metadata": {},
   "source": [
    "### Explode calculated field questions \n",
    "For questions where multiple countries are specified, explode the data set so we have the data across multiple lines. This will help with analysis to understand how many instances of the country 'Germany' comes up for example. In the current wide data set, it is difficult to do this without a significant amount of manual intervention."
   ]
  },
  {
   "cell_type": "code",
   "execution_count": 24,
   "id": "c56b36ec",
   "metadata": {},
   "outputs": [],
   "source": [
    "# Filter dataframe for the calc field 'Total ethnicities (list)'\n",
    "df_td_filtered = df_td.query('question_wording == \"CF Total ethnicities (List)\"').copy()\n",
    "\n",
    "# Convert the 'countries' column from a comma-separated string to a list\n",
    "df_td_filtered['response'] = df_td_filtered['response'].apply(lambda x: x.split(', '))\n",
    "\n",
    "# Explode response column\n",
    "df_expl = df_td_filtered.explode('response')"
   ]
  },
  {
   "cell_type": "code",
   "execution_count": 25,
   "id": "a19826b9",
   "metadata": {},
   "outputs": [],
   "source": [
    "# Filter dataframe for the calc field 'Total ethnicities (list)'\n",
    "df_td_filtered2 = df_td.query('question_wording == \"CF Total countries grown up in (List)\"').copy()\n",
    "\n",
    "# Convert the 'countries' column from a comma-separated string to a list\n",
    "df_td_filtered2['response'] = df_td_filtered2['response'].apply(lambda x: x.split(', '))\n",
    "\n",
    "# Explode response column\n",
    "df_expl2 = df_td_filtered2.explode('response')"
   ]
  },
  {
   "cell_type": "code",
   "execution_count": 26,
   "id": "8e6e3908",
   "metadata": {},
   "outputs": [],
   "source": [
    "# Filter dataframe to exclude exploded responses\n",
    "df_unexpl = df_td.query('question_wording != [\"CF Total ethnicities (List)\",\"CF Total countries grown up in (List)\"]')"
   ]
  },
  {
   "cell_type": "code",
   "execution_count": 27,
   "id": "0e140d69",
   "metadata": {},
   "outputs": [],
   "source": [
    "# Concatenate 'unexploded' dataset with 2 questions that have undergone 'explosion'\n",
    "df_final = pd.concat([df_unexpl, df_expl, df_expl2])"
   ]
  },
  {
   "cell_type": "code",
   "execution_count": 28,
   "id": "7d0321b6",
   "metadata": {},
   "outputs": [],
   "source": [
    "# Sort final dataframe by recipient_id and question_id\n",
    "df_td = df_final.sort_values(by=['recipient_id','question_id','question_wording'])"
   ]
  },
  {
   "cell_type": "code",
   "execution_count": 29,
   "id": "28573803",
   "metadata": {},
   "outputs": [
    {
     "data": {
      "text/plain": [
       "5777"
      ]
     },
     "execution_count": 29,
     "metadata": {},
     "output_type": "execute_result"
    }
   ],
   "source": [
    "df_td.shape[0]"
   ]
  },
  {
   "cell_type": "markdown",
   "id": "1de3d774",
   "metadata": {},
   "source": [
    "### Create function to build service\n",
    "**Reference**: Used the following walkthrough (Section: Write dataframe to Google Sheet) \\\n",
    "https://medium.com/analytics-vidhya/how-to-read-and-write-data-to-google-spreadsheet-using-python-ebf54d51a72c"
   ]
  },
  {
   "cell_type": "code",
   "execution_count": 30,
   "id": "f5a93a8f",
   "metadata": {},
   "outputs": [],
   "source": [
    "# Create a pickle file from JSON file and build service\n",
    "def createService(client_secret_file, api_service_name, api_version, *scopes):\n",
    "    global service\n",
    "    SCOPES = [scope for scope in scopes[0]]    \n",
    "    cred = None\n",
    "\n",
    "    if os.path.exists('token_write.pickle'):\n",
    "        with open('token_write.pickle', 'rb') as token:\n",
    "            cred = pickle.load(token)\n",
    "\n",
    "    if not cred or not cred.valid:\n",
    "        if cred and cred.expired and cred.refresh_token:\n",
    "            cred.refresh(Request())\n",
    "        else:\n",
    "            flow = InstalledAppFlow.from_client_secrets_file(client_secret_file, SCOPES)\n",
    "            cred = flow.run_local_server()\n",
    "\n",
    "        with open('token_write.pickle', 'wb') as token:\n",
    "            pickle.dump(cred, token)\n",
    "\n",
    "    try:\n",
    "        service = build(api_service_name, api_version, credentials=cred)\n",
    "        print(api_service_name, 'service created successfully')\n",
    "\n",
    "    except Exception as e:\n",
    "        print(e)"
   ]
  },
  {
   "cell_type": "code",
   "execution_count": 31,
   "id": "88af7860",
   "metadata": {},
   "outputs": [
    {
     "name": "stdout",
     "output_type": "stream",
     "text": [
      "sheets service created successfully\n"
     ]
    }
   ],
   "source": [
    "# Call function\n",
    "createService('credentials.json', 'sheets', 'v4',['https://www.googleapis.com/auth/spreadsheets'])"
   ]
  },
  {
   "cell_type": "markdown",
   "id": "a9be9cd7",
   "metadata": {},
   "source": [
    "### Add new sheet to existing Google Sheet\n",
    "**Reference**: Used the following walkthrough \\\n",
    "https://learndataanalysis.org/add-new-worksheets-to-existing-google-sheets-file-with-google-sheets-api/\n",
    "\n",
    "**Note**: Each time this code is run it will create a new tab based on the date and time of running to ensure no data is written over."
   ]
  },
  {
   "cell_type": "code",
   "execution_count": 32,
   "id": "5fa4e9a3",
   "metadata": {},
   "outputs": [],
   "source": [
    "# Define Google Sheet parameter\n",
    "gsheetId = '1YDodYS7JAV7R0icO0s28i9UGKHO2LbOcbfCYjmhvSmI'\n",
    "\n",
    "# Define variables for new sheet name\n",
    "date = str(datetime.today().strftime(\"%Y-%m-%d-%H:%M\"))\n",
    "sheet_name_td = f'{date}-tall-dataset'\n",
    "sheet_name_wd = f'{date}-wide-dataset'"
   ]
  },
  {
   "cell_type": "code",
   "execution_count": 33,
   "id": "0d8ce2e4",
   "metadata": {},
   "outputs": [],
   "source": [
    "# Add new sheet to existing Google Sheet\n",
    "def addSheet(sheet_name):\n",
    "    request_body = {\n",
    "            'requests': [{\n",
    "                'addSheet': {\n",
    "                    'properties': {\n",
    "                        'title': sheet_name,\n",
    "                        'tabColor': {\n",
    "                            'red': 0.44,\n",
    "                            'green': 0.99,\n",
    "                            'blue': 0.50\n",
    "                        }\n",
    "                    }\n",
    "                }\n",
    "            }]\n",
    "        }\n",
    "    \n",
    "    response_date = service.spreadsheets().batchUpdate(\n",
    "        spreadsheetId=gsheetId,\n",
    "        body=request_body\n",
    "    ).execute()"
   ]
  },
  {
   "cell_type": "code",
   "execution_count": 34,
   "id": "fe2a42be",
   "metadata": {},
   "outputs": [],
   "source": [
    "# Call function\n",
    "addSheet(sheet_name_td)"
   ]
  },
  {
   "cell_type": "code",
   "execution_count": 35,
   "id": "bf453101",
   "metadata": {},
   "outputs": [],
   "source": [
    "# Call function\n",
    "addSheet(sheet_name_wd)"
   ]
  },
  {
   "cell_type": "code",
   "execution_count": 36,
   "id": "5de4f096",
   "metadata": {},
   "outputs": [],
   "source": [
    "# Define Google Sheet parameter\n",
    "exportRange = f'{sheet_name_td}!A1:AA6000'"
   ]
  },
  {
   "cell_type": "code",
   "execution_count": 37,
   "id": "d0ccebd6",
   "metadata": {},
   "outputs": [],
   "source": [
    "# Update newly created sheet with engineered dataframe (df)\n",
    "def exportData(dataframe):\n",
    "    response_date = service.spreadsheets().values().update(\n",
    "        spreadsheetId=gsheetId,\n",
    "        valueInputOption='RAW',\n",
    "        range=exportRange,\n",
    "        body=dict(\n",
    "            majorDimension='ROWS',\n",
    "            values=dataframe.T.reset_index().T.values.tolist())\n",
    "    ).execute()"
   ]
  },
  {
   "cell_type": "code",
   "execution_count": 38,
   "id": "34338f3b",
   "metadata": {},
   "outputs": [],
   "source": [
    "# Fill NaN values\n",
    "df_td = df_td.fillna('')\n",
    "\n",
    "# Call function\n",
    "exportData(df_td)"
   ]
  },
  {
   "cell_type": "markdown",
   "id": "49cb76c6",
   "metadata": {},
   "source": [
    "### Create wide data set with new naming convention\n",
    "Certain data analysis is prefereable with a wide data set, therefore we will also add a 'wide' data set sheet to our final GSheet."
   ]
  },
  {
   "cell_type": "code",
   "execution_count": 39,
   "id": "afbaa5e8",
   "metadata": {},
   "outputs": [],
   "source": [
    "# Rename column headers to align with Q01, Q02 etc. naming convention outlined above\n",
    "df_wd = df_rd.rename(columns={\n",
    "    'recipient_id':'Recipient ID',\n",
    "    'timestamp':'Timestamp',\n",
    "    'Age?':'Q14 Age?',\n",
    "    'What country is your first ethnic background? ':'Q15 What country is your first ethnic background?',\n",
    "    'What country is your second ethnic background? (If you have multiple)':'Q16 What country is your second ethnic background? (If you have multiple)',\n",
    "    'What country is your third ethnic background? (If you have multiple)':'Q17 What country is your third ethnic background? (If you have multiple)',\n",
    "    'Please list the rest of your ethnicities here if you have more than 3':'Q18 Please list the rest of your ethnicities here if you have more than 3',\n",
    "    'Please list the rest of your ethnicities here if you have more than 3 (Cleansed)':'Q18 Please list the rest of your ethnicities here if you have more than 3 (Cleansed)',\n",
    "    'What country did you grow up in primarily? ':'Q19 What country did you grow up in primarily?',\n",
    "    'Please add any other countries you grew up in':'Q20 Please add any other countries you grew up in',\n",
    "    'Please add any other countries you grew up in (Cleansed)':'Q20 Please add any other countries you grew up in (Cleansed)', \n",
    "    '1. Did you experience uncertainty or conflict between your family culture and the culture of the country you grew up in?':'Q01 Did you experience uncertainty or conflict between your family culture and the culture of the country you grew up in?',\n",
    "    '2.  What kind of positive and negative experiences shaped your cultural identity while growing up? (e.g. memories at home, school, university, a work environment that made you feel proud or ashamed of your culture) ':'Q02  What kind of positive and negative experiences shaped your cultural identity while growing up? (e.g. memories at home, school, university, a work environment that made you feel proud or ashamed of your culture)',\n",
    "    '3. How connected do you currently feel to your cultural identity (roots)?':'Q03 How connected do you currently feel to your cultural identity (roots)?',\n",
    "    '4. Did you wish you felt more connected to your cultural identity (roots)?':'Q04 Did you wish you felt more connected to your cultural identity (roots)?',\n",
    "    '5. What did you wish you knew more about your culture?':'Q05 What did you wish you knew more about your culture?',\n",
    "    '6. Would you visit the country of your ethnic origin to learn more about your cultural identity?':'Q06 Would you visit the country of your ethnic origin to learn more about your cultural identity?',\n",
    "    '7.  Are there any obstacles or limitations that prevent you from visiting your country of ethnic origin?':'Q07 Are there any obstacles or limitations that prevent you from visiting your country of ethnic origin?',\n",
    "    \"8. Do you think it's important to connect back to your cultural identity (roots)?\":\"Q08 Do you think it's important to connect back to your cultural identity (roots)?\",\n",
    "    \"9. Why do you think it's important (or not) to connect back with your cultural identity (roots)?\":\"Q09 Why do you think it's important (or not) to connect back with your cultural identity (roots)?\",\n",
    "    '10. Suppose there was a cultural reconnection programme that was established in the motherland to help diaspora people reconnect back with their cultural identity. Would you be interested to fly back and participate? (Where you would formally learn about your culture and also work with a local NGO solving a social problem)':'Q10i Suppose there was a cultural reconnection programme that was established in the motherland to help diaspora people reconnect back with their cultural identity. Would you be interested to fly back and participate? (Where you would formally learn about your culture and also work with a local NGO solving a social problem)',\n",
    "    '10a. If you selected ‘No’, why would you not want to participate in this programme?':'Q10ii If you selected ‘No’, why would you not want to participate in this programme?',\n",
    "    '11. Would you be willing to pay for the programme?':'Q11 Would you be willing to pay for the programme?',\n",
    "    '12. What would you want to gain from a cultural reconnection programme like this? (or what elements would you want the programme to have if you are going to be paying for it?)':'Q12 What would you want to gain from a cultural reconnection programme like this? (or what elements would you want the programme to have if you are going to be paying for it?)',\n",
    "    '13. How long would you be willing to volunteer with a local NGO in the country of your ethnic origin?':'Q13 How long would you be willing to volunteer with a local NGO in the country of your ethnic origin?',\n",
    "    'email':'Email',\n",
    "    'Let us know if there is anything else you would like to mention below':'Q21 Let us know if there is anything else you would like to mention below'})"
   ]
  },
  {
   "cell_type": "code",
   "execution_count": 40,
   "id": "77d90235",
   "metadata": {},
   "outputs": [],
   "source": [
    "# Sort dataframe headers alphabetically to ensure Q01, Q02 etc. are appearing in the correct order\n",
    "df_wd = df_wd.sort_index(axis=1)"
   ]
  },
  {
   "cell_type": "code",
   "execution_count": 41,
   "id": "29a5fc3e",
   "metadata": {},
   "outputs": [],
   "source": [
    "# Re-order columns 'Recipient ID' and 'Timestamp' in spreadsheet\n",
    "col = df_wd.pop('Recipient ID')\n",
    "df_wd.insert(0, col.name, col)\n",
    "\n",
    "col = df_wd.pop('Timestamp')\n",
    "df_wd.insert(1, col.name, col)"
   ]
  },
  {
   "cell_type": "code",
   "execution_count": 42,
   "id": "1d58d3df",
   "metadata": {},
   "outputs": [],
   "source": [
    "# Fill NaN values\n",
    "df_wd = df_wd.fillna('')"
   ]
  },
  {
   "cell_type": "code",
   "execution_count": 43,
   "id": "c61cb6b5",
   "metadata": {},
   "outputs": [],
   "source": [
    "# Define Google Sheet parameter\n",
    "exportRange = f'{sheet_name_wd}!A1:AE5000'"
   ]
  },
  {
   "cell_type": "code",
   "execution_count": 44,
   "id": "ca798298",
   "metadata": {},
   "outputs": [],
   "source": [
    "# Call function\n",
    "exportData(df_wd)"
   ]
  }
 ],
 "metadata": {
  "kernelspec": {
   "display_name": "Python [conda env:roots_env]",
   "language": "python",
   "name": "conda-env-roots_env-py"
  },
  "language_info": {
   "codemirror_mode": {
    "name": "ipython",
    "version": 3
   },
   "file_extension": ".py",
   "mimetype": "text/x-python",
   "name": "python",
   "nbconvert_exporter": "python",
   "pygments_lexer": "ipython3",
   "version": "3.12.2"
  }
 },
 "nbformat": 4,
 "nbformat_minor": 5
}
